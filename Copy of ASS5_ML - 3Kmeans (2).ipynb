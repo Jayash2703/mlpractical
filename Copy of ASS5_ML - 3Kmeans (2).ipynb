{
 "cells": [
  {
   "cell_type": "code",
   "execution_count": 1,
   "metadata": {
    "executionInfo": {
     "elapsed": 565,
     "status": "ok",
     "timestamp": 1700221429369,
     "user": {
      "displayName": "Atharv Pathak",
      "userId": "17047707583990029538"
     },
     "user_tz": -330
    },
    "id": "1nyhs5ssj6V5"
   },
   "outputs": [],
   "source": [
    "#Clustering Algorithms"
   ]
  },
  {
   "cell_type": "code",
   "execution_count": 2,
   "metadata": {
    "executionInfo": {
     "elapsed": 30,
     "status": "ok",
     "timestamp": 1700221430655,
     "user": {
      "displayName": "Atharv Pathak",
      "userId": "17047707583990029538"
     },
     "user_tz": -330
    },
    "id": "VcR3laEOs9C1"
   },
   "outputs": [],
   "source": [
    "import pandas as pd\n",
    "import matplotlib.pyplot as plt\n",
    "import warnings"
   ]
  },
  {
   "cell_type": "code",
   "execution_count": 3,
   "metadata": {
    "executionInfo": {
     "elapsed": 30,
     "status": "ok",
     "timestamp": 1700221430656,
     "user": {
      "displayName": "Atharv Pathak",
      "userId": "17047707583990029538"
     },
     "user_tz": -330
    },
    "id": "CYmdReMGtD2b"
   },
   "outputs": [],
   "source": [
    "df = pd.read_csv('cities_r2.csv')"
   ]
  },
  {
   "cell_type": "code",
   "execution_count": 4,
   "metadata": {
    "colab": {
     "base_uri": "https://localhost:8080/",
     "height": 530
    },
    "executionInfo": {
     "elapsed": 30,
     "status": "ok",
     "timestamp": 1700221430656,
     "user": {
      "displayName": "Atharv Pathak",
      "userId": "17047707583990029538"
     },
     "user_tz": -330
    },
    "id": "JmPns0SdtMkf",
    "outputId": "cc27487a-4a65-4456-b2d7-cb8af2f4e3e0"
   },
   "outputs": [
    {
     "data": {
      "text/html": [
       "<div>\n",
       "<style scoped>\n",
       "    .dataframe tbody tr th:only-of-type {\n",
       "        vertical-align: middle;\n",
       "    }\n",
       "\n",
       "    .dataframe tbody tr th {\n",
       "        vertical-align: top;\n",
       "    }\n",
       "\n",
       "    .dataframe thead th {\n",
       "        text-align: right;\n",
       "    }\n",
       "</style>\n",
       "<table border=\"1\" class=\"dataframe\">\n",
       "  <thead>\n",
       "    <tr style=\"text-align: right;\">\n",
       "      <th></th>\n",
       "      <th>name_of_city</th>\n",
       "      <th>state_code</th>\n",
       "      <th>state_name</th>\n",
       "      <th>dist_code</th>\n",
       "      <th>population_total</th>\n",
       "      <th>population_male</th>\n",
       "      <th>population_female</th>\n",
       "      <th>0-6_population_total</th>\n",
       "      <th>0-6_population_male</th>\n",
       "      <th>0-6_population_female</th>\n",
       "      <th>...</th>\n",
       "      <th>literates_female</th>\n",
       "      <th>sex_ratio</th>\n",
       "      <th>child_sex_ratio</th>\n",
       "      <th>effective_literacy_rate_total</th>\n",
       "      <th>effective_literacy_rate_male</th>\n",
       "      <th>effective_literacy_rate_female</th>\n",
       "      <th>location</th>\n",
       "      <th>total_graduates</th>\n",
       "      <th>male_graduates</th>\n",
       "      <th>female_graduates</th>\n",
       "    </tr>\n",
       "  </thead>\n",
       "  <tbody>\n",
       "    <tr>\n",
       "      <th>0</th>\n",
       "      <td>Abohar</td>\n",
       "      <td>3</td>\n",
       "      <td>PUNJAB</td>\n",
       "      <td>9</td>\n",
       "      <td>145238</td>\n",
       "      <td>76840</td>\n",
       "      <td>68398</td>\n",
       "      <td>15870</td>\n",
       "      <td>8587</td>\n",
       "      <td>7283</td>\n",
       "      <td>...</td>\n",
       "      <td>44972</td>\n",
       "      <td>890</td>\n",
       "      <td>848</td>\n",
       "      <td>79.86</td>\n",
       "      <td>85.49</td>\n",
       "      <td>73.59</td>\n",
       "      <td>30.1452928,74.1993043</td>\n",
       "      <td>16287</td>\n",
       "      <td>8612</td>\n",
       "      <td>7675</td>\n",
       "    </tr>\n",
       "    <tr>\n",
       "      <th>1</th>\n",
       "      <td>Achalpur</td>\n",
       "      <td>27</td>\n",
       "      <td>MAHARASHTRA</td>\n",
       "      <td>7</td>\n",
       "      <td>112293</td>\n",
       "      <td>58256</td>\n",
       "      <td>54037</td>\n",
       "      <td>11810</td>\n",
       "      <td>6186</td>\n",
       "      <td>5624</td>\n",
       "      <td>...</td>\n",
       "      <td>43086</td>\n",
       "      <td>928</td>\n",
       "      <td>909</td>\n",
       "      <td>91.99</td>\n",
       "      <td>94.77</td>\n",
       "      <td>89.00</td>\n",
       "      <td>21.257584,77.5086754</td>\n",
       "      <td>8863</td>\n",
       "      <td>5269</td>\n",
       "      <td>3594</td>\n",
       "    </tr>\n",
       "    <tr>\n",
       "      <th>2</th>\n",
       "      <td>Adilabad</td>\n",
       "      <td>28</td>\n",
       "      <td>ANDHRA PRADESH</td>\n",
       "      <td>1</td>\n",
       "      <td>117388</td>\n",
       "      <td>59232</td>\n",
       "      <td>58156</td>\n",
       "      <td>13103</td>\n",
       "      <td>6731</td>\n",
       "      <td>6372</td>\n",
       "      <td>...</td>\n",
       "      <td>37660</td>\n",
       "      <td>982</td>\n",
       "      <td>947</td>\n",
       "      <td>80.51</td>\n",
       "      <td>88.18</td>\n",
       "      <td>72.73</td>\n",
       "      <td>19.0809075,79.560344</td>\n",
       "      <td>10565</td>\n",
       "      <td>6797</td>\n",
       "      <td>3768</td>\n",
       "    </tr>\n",
       "    <tr>\n",
       "      <th>3</th>\n",
       "      <td>Adityapur</td>\n",
       "      <td>20</td>\n",
       "      <td>JHARKHAND</td>\n",
       "      <td>24</td>\n",
       "      <td>173988</td>\n",
       "      <td>91495</td>\n",
       "      <td>82493</td>\n",
       "      <td>23042</td>\n",
       "      <td>12063</td>\n",
       "      <td>10979</td>\n",
       "      <td>...</td>\n",
       "      <td>54515</td>\n",
       "      <td>902</td>\n",
       "      <td>910</td>\n",
       "      <td>83.46</td>\n",
       "      <td>89.98</td>\n",
       "      <td>76.23</td>\n",
       "      <td>22.7834741,86.1576889</td>\n",
       "      <td>19225</td>\n",
       "      <td>12189</td>\n",
       "      <td>7036</td>\n",
       "    </tr>\n",
       "    <tr>\n",
       "      <th>4</th>\n",
       "      <td>Adoni</td>\n",
       "      <td>28</td>\n",
       "      <td>ANDHRA PRADESH</td>\n",
       "      <td>21</td>\n",
       "      <td>166537</td>\n",
       "      <td>82743</td>\n",
       "      <td>83794</td>\n",
       "      <td>18406</td>\n",
       "      <td>9355</td>\n",
       "      <td>9051</td>\n",
       "      <td>...</td>\n",
       "      <td>45089</td>\n",
       "      <td>1013</td>\n",
       "      <td>968</td>\n",
       "      <td>68.38</td>\n",
       "      <td>76.58</td>\n",
       "      <td>60.33</td>\n",
       "      <td>15.6322227,77.2728368</td>\n",
       "      <td>11902</td>\n",
       "      <td>7871</td>\n",
       "      <td>4031</td>\n",
       "    </tr>\n",
       "    <tr>\n",
       "      <th>...</th>\n",
       "      <td>...</td>\n",
       "      <td>...</td>\n",
       "      <td>...</td>\n",
       "      <td>...</td>\n",
       "      <td>...</td>\n",
       "      <td>...</td>\n",
       "      <td>...</td>\n",
       "      <td>...</td>\n",
       "      <td>...</td>\n",
       "      <td>...</td>\n",
       "      <td>...</td>\n",
       "      <td>...</td>\n",
       "      <td>...</td>\n",
       "      <td>...</td>\n",
       "      <td>...</td>\n",
       "      <td>...</td>\n",
       "      <td>...</td>\n",
       "      <td>...</td>\n",
       "      <td>...</td>\n",
       "      <td>...</td>\n",
       "      <td>...</td>\n",
       "    </tr>\n",
       "    <tr>\n",
       "      <th>488</th>\n",
       "      <td>Vizianagaram</td>\n",
       "      <td>28</td>\n",
       "      <td>ANDHRA PRADESH</td>\n",
       "      <td>12</td>\n",
       "      <td>227533</td>\n",
       "      <td>111596</td>\n",
       "      <td>115937</td>\n",
       "      <td>20487</td>\n",
       "      <td>10495</td>\n",
       "      <td>9992</td>\n",
       "      <td>...</td>\n",
       "      <td>80306</td>\n",
       "      <td>1039</td>\n",
       "      <td>952</td>\n",
       "      <td>81.85</td>\n",
       "      <td>88.18</td>\n",
       "      <td>75.80</td>\n",
       "      <td>18.1066576,83.3955506</td>\n",
       "      <td>30656</td>\n",
       "      <td>19173</td>\n",
       "      <td>11483</td>\n",
       "    </tr>\n",
       "    <tr>\n",
       "      <th>489</th>\n",
       "      <td>Warangal</td>\n",
       "      <td>28</td>\n",
       "      <td>ANDHRA PRADESH</td>\n",
       "      <td>9</td>\n",
       "      <td>620116</td>\n",
       "      <td>310400</td>\n",
       "      <td>309716</td>\n",
       "      <td>55392</td>\n",
       "      <td>28434</td>\n",
       "      <td>26958</td>\n",
       "      <td>...</td>\n",
       "      <td>217136</td>\n",
       "      <td>998</td>\n",
       "      <td>948</td>\n",
       "      <td>84.16</td>\n",
       "      <td>91.54</td>\n",
       "      <td>76.79</td>\n",
       "      <td>17.9689008,79.5940544</td>\n",
       "      <td>109613</td>\n",
       "      <td>69507</td>\n",
       "      <td>40106</td>\n",
       "    </tr>\n",
       "    <tr>\n",
       "      <th>490</th>\n",
       "      <td>Wardha</td>\n",
       "      <td>27</td>\n",
       "      <td>MAHARASHTRA</td>\n",
       "      <td>8</td>\n",
       "      <td>105543</td>\n",
       "      <td>53241</td>\n",
       "      <td>52302</td>\n",
       "      <td>9754</td>\n",
       "      <td>5139</td>\n",
       "      <td>4615</td>\n",
       "      <td>...</td>\n",
       "      <td>43339</td>\n",
       "      <td>982</td>\n",
       "      <td>898</td>\n",
       "      <td>94.05</td>\n",
       "      <td>97.19</td>\n",
       "      <td>90.88</td>\n",
       "      <td>20.745319,78.6021946</td>\n",
       "      <td>19363</td>\n",
       "      <td>10645</td>\n",
       "      <td>8718</td>\n",
       "    </tr>\n",
       "    <tr>\n",
       "      <th>491</th>\n",
       "      <td>Yamunanagar</td>\n",
       "      <td>6</td>\n",
       "      <td>HARYANA</td>\n",
       "      <td>3</td>\n",
       "      <td>216628</td>\n",
       "      <td>115404</td>\n",
       "      <td>101224</td>\n",
       "      <td>22905</td>\n",
       "      <td>12556</td>\n",
       "      <td>10349</td>\n",
       "      <td>...</td>\n",
       "      <td>74255</td>\n",
       "      <td>877</td>\n",
       "      <td>824</td>\n",
       "      <td>85.91</td>\n",
       "      <td>89.61</td>\n",
       "      <td>81.71</td>\n",
       "      <td>30.1290485,77.2673901</td>\n",
       "      <td>29803</td>\n",
       "      <td>14349</td>\n",
       "      <td>15454</td>\n",
       "    </tr>\n",
       "    <tr>\n",
       "      <th>492</th>\n",
       "      <td>Yavatmal</td>\n",
       "      <td>27</td>\n",
       "      <td>MAHARASHTRA</td>\n",
       "      <td>14</td>\n",
       "      <td>116714</td>\n",
       "      <td>58717</td>\n",
       "      <td>57997</td>\n",
       "      <td>11081</td>\n",
       "      <td>5894</td>\n",
       "      <td>5187</td>\n",
       "      <td>...</td>\n",
       "      <td>46561</td>\n",
       "      <td>988</td>\n",
       "      <td>880</td>\n",
       "      <td>91.81</td>\n",
       "      <td>95.45</td>\n",
       "      <td>88.17</td>\n",
       "      <td>20.3887937,78.1204073</td>\n",
       "      <td>13511</td>\n",
       "      <td>7397</td>\n",
       "      <td>6114</td>\n",
       "    </tr>\n",
       "  </tbody>\n",
       "</table>\n",
       "<p>493 rows × 22 columns</p>\n",
       "</div>"
      ],
      "text/plain": [
       "      name_of_city  state_code      state_name  dist_code  population_total  \\\n",
       "0          Abohar            3          PUNJAB          9            145238   \n",
       "1        Achalpur           27     MAHARASHTRA          7            112293   \n",
       "2        Adilabad           28  ANDHRA PRADESH          1            117388   \n",
       "3       Adityapur           20       JHARKHAND         24            173988   \n",
       "4           Adoni           28  ANDHRA PRADESH         21            166537   \n",
       "..             ...         ...             ...        ...               ...   \n",
       "488  Vizianagaram           28  ANDHRA PRADESH         12            227533   \n",
       "489      Warangal           28  ANDHRA PRADESH          9            620116   \n",
       "490        Wardha           27     MAHARASHTRA          8            105543   \n",
       "491   Yamunanagar            6         HARYANA          3            216628   \n",
       "492      Yavatmal           27     MAHARASHTRA         14            116714   \n",
       "\n",
       "     population_male  population_female  0-6_population_total  \\\n",
       "0              76840              68398                 15870   \n",
       "1              58256              54037                 11810   \n",
       "2              59232              58156                 13103   \n",
       "3              91495              82493                 23042   \n",
       "4              82743              83794                 18406   \n",
       "..               ...                ...                   ...   \n",
       "488           111596             115937                 20487   \n",
       "489           310400             309716                 55392   \n",
       "490            53241              52302                  9754   \n",
       "491           115404             101224                 22905   \n",
       "492            58717              57997                 11081   \n",
       "\n",
       "     0-6_population_male  0-6_population_female  ...  literates_female  \\\n",
       "0                   8587                   7283  ...             44972   \n",
       "1                   6186                   5624  ...             43086   \n",
       "2                   6731                   6372  ...             37660   \n",
       "3                  12063                  10979  ...             54515   \n",
       "4                   9355                   9051  ...             45089   \n",
       "..                   ...                    ...  ...               ...   \n",
       "488                10495                   9992  ...             80306   \n",
       "489                28434                  26958  ...            217136   \n",
       "490                 5139                   4615  ...             43339   \n",
       "491                12556                  10349  ...             74255   \n",
       "492                 5894                   5187  ...             46561   \n",
       "\n",
       "     sex_ratio  child_sex_ratio  effective_literacy_rate_total  \\\n",
       "0          890              848                          79.86   \n",
       "1          928              909                          91.99   \n",
       "2          982              947                          80.51   \n",
       "3          902              910                          83.46   \n",
       "4         1013              968                          68.38   \n",
       "..         ...              ...                            ...   \n",
       "488       1039              952                          81.85   \n",
       "489        998              948                          84.16   \n",
       "490        982              898                          94.05   \n",
       "491        877              824                          85.91   \n",
       "492        988              880                          91.81   \n",
       "\n",
       "     effective_literacy_rate_male  effective_literacy_rate_female  \\\n",
       "0                           85.49                           73.59   \n",
       "1                           94.77                           89.00   \n",
       "2                           88.18                           72.73   \n",
       "3                           89.98                           76.23   \n",
       "4                           76.58                           60.33   \n",
       "..                            ...                             ...   \n",
       "488                         88.18                           75.80   \n",
       "489                         91.54                           76.79   \n",
       "490                         97.19                           90.88   \n",
       "491                         89.61                           81.71   \n",
       "492                         95.45                           88.17   \n",
       "\n",
       "                  location  total_graduates male_graduates  female_graduates  \n",
       "0    30.1452928,74.1993043            16287           8612              7675  \n",
       "1     21.257584,77.5086754             8863           5269              3594  \n",
       "2     19.0809075,79.560344            10565           6797              3768  \n",
       "3    22.7834741,86.1576889            19225          12189              7036  \n",
       "4    15.6322227,77.2728368            11902           7871              4031  \n",
       "..                     ...              ...            ...               ...  \n",
       "488  18.1066576,83.3955506            30656          19173             11483  \n",
       "489  17.9689008,79.5940544           109613          69507             40106  \n",
       "490   20.745319,78.6021946            19363          10645              8718  \n",
       "491  30.1290485,77.2673901            29803          14349             15454  \n",
       "492  20.3887937,78.1204073            13511           7397              6114  \n",
       "\n",
       "[493 rows x 22 columns]"
      ]
     },
     "execution_count": 4,
     "metadata": {},
     "output_type": "execute_result"
    }
   ],
   "source": [
    "df"
   ]
  },
  {
   "cell_type": "code",
   "execution_count": 5,
   "metadata": {
    "colab": {
     "base_uri": "https://localhost:8080/",
     "height": 423
    },
    "executionInfo": {
     "elapsed": 27,
     "status": "ok",
     "timestamp": 1700221430656,
     "user": {
      "displayName": "Atharv Pathak",
      "userId": "17047707583990029538"
     },
     "user_tz": -330
    },
    "id": "26zfWVlitSAS",
    "outputId": "6fac2ccb-1798-482e-8405-49274ed89b19"
   },
   "outputs": [
    {
     "data": {
      "text/html": [
       "<div>\n",
       "<style scoped>\n",
       "    .dataframe tbody tr th:only-of-type {\n",
       "        vertical-align: middle;\n",
       "    }\n",
       "\n",
       "    .dataframe tbody tr th {\n",
       "        vertical-align: top;\n",
       "    }\n",
       "\n",
       "    .dataframe thead th {\n",
       "        text-align: right;\n",
       "    }\n",
       "</style>\n",
       "<table border=\"1\" class=\"dataframe\">\n",
       "  <thead>\n",
       "    <tr style=\"text-align: right;\">\n",
       "      <th></th>\n",
       "      <th>0-6_population_total</th>\n",
       "      <th>total_graduates</th>\n",
       "    </tr>\n",
       "  </thead>\n",
       "  <tbody>\n",
       "    <tr>\n",
       "      <th>0</th>\n",
       "      <td>15870</td>\n",
       "      <td>16287</td>\n",
       "    </tr>\n",
       "    <tr>\n",
       "      <th>1</th>\n",
       "      <td>11810</td>\n",
       "      <td>8863</td>\n",
       "    </tr>\n",
       "    <tr>\n",
       "      <th>2</th>\n",
       "      <td>13103</td>\n",
       "      <td>10565</td>\n",
       "    </tr>\n",
       "    <tr>\n",
       "      <th>3</th>\n",
       "      <td>23042</td>\n",
       "      <td>19225</td>\n",
       "    </tr>\n",
       "    <tr>\n",
       "      <th>4</th>\n",
       "      <td>18406</td>\n",
       "      <td>11902</td>\n",
       "    </tr>\n",
       "    <tr>\n",
       "      <th>...</th>\n",
       "      <td>...</td>\n",
       "      <td>...</td>\n",
       "    </tr>\n",
       "    <tr>\n",
       "      <th>488</th>\n",
       "      <td>20487</td>\n",
       "      <td>30656</td>\n",
       "    </tr>\n",
       "    <tr>\n",
       "      <th>489</th>\n",
       "      <td>55392</td>\n",
       "      <td>109613</td>\n",
       "    </tr>\n",
       "    <tr>\n",
       "      <th>490</th>\n",
       "      <td>9754</td>\n",
       "      <td>19363</td>\n",
       "    </tr>\n",
       "    <tr>\n",
       "      <th>491</th>\n",
       "      <td>22905</td>\n",
       "      <td>29803</td>\n",
       "    </tr>\n",
       "    <tr>\n",
       "      <th>492</th>\n",
       "      <td>11081</td>\n",
       "      <td>13511</td>\n",
       "    </tr>\n",
       "  </tbody>\n",
       "</table>\n",
       "<p>493 rows × 2 columns</p>\n",
       "</div>"
      ],
      "text/plain": [
       "     0-6_population_total  total_graduates\n",
       "0                   15870            16287\n",
       "1                   11810             8863\n",
       "2                   13103            10565\n",
       "3                   23042            19225\n",
       "4                   18406            11902\n",
       "..                    ...              ...\n",
       "488                 20487            30656\n",
       "489                 55392           109613\n",
       "490                  9754            19363\n",
       "491                 22905            29803\n",
       "492                 11081            13511\n",
       "\n",
       "[493 rows x 2 columns]"
      ]
     },
     "execution_count": 5,
     "metadata": {},
     "output_type": "execute_result"
    }
   ],
   "source": [
    "#plotting annual income and spending score\n",
    "x = df.iloc[:, [7,19]]\n",
    "x"
   ]
  },
  {
   "cell_type": "code",
   "execution_count": 6,
   "metadata": {
    "executionInfo": {
     "elapsed": 25,
     "status": "ok",
     "timestamp": 1700221430656,
     "user": {
      "displayName": "Atharv Pathak",
      "userId": "17047707583990029538"
     },
     "user_tz": -330
    },
    "id": "thBz-jT139nc"
   },
   "outputs": [],
   "source": [
    "# from sklearn.preprocessing import LabelEncoder\n",
    "# lb = LabelEncoder()\n",
    "# df['name_of_city'] = lb.fit_transform(df['name_of_city'])"
   ]
  },
  {
   "cell_type": "code",
   "execution_count": 7,
   "metadata": {
    "colab": {
     "base_uri": "https://localhost:8080/",
     "height": 489
    },
    "executionInfo": {
     "elapsed": 26,
     "status": "ok",
     "timestamp": 1700221430657,
     "user": {
      "displayName": "Atharv Pathak",
      "userId": "17047707583990029538"
     },
     "user_tz": -330
    },
    "id": "5EyZqRVCt2DC",
    "outputId": "f0658d66-1ca9-4aaf-ca06-25e5d18f6b4c"
   },
   "outputs": [
    {
     "data": {
      "text/plain": [
       "<matplotlib.collections.PathCollection at 0x214be40fa10>"
      ]
     },
     "execution_count": 7,
     "metadata": {},
     "output_type": "execute_result"
    },
    {
     "data": {
      "image/png": "[encoded data removed]",
      "text/plain": [
       "<Figure size 640x480 with 1 Axes>"
      ]
     },
     "metadata": {},
     "output_type": "display_data"
    }
   ],
   "source": [
    "plt.title('Unclustered Data')\n",
    "plt.xlabel('Total graduates')\n",
    "plt.ylabel('Toatl Population')\n",
    "plt.scatter(x['total_graduates'], x['0-6_population_total'])"
   ]
  },
  {
   "cell_type": "code",
   "execution_count": 8,
   "metadata": {
    "executionInfo": {
     "elapsed": 22,
     "status": "ok",
     "timestamp": 1700221430657,
     "user": {
      "displayName": "Atharv Pathak",
      "userId": "17047707583990029538"
     },
     "user_tz": -330
    },
    "id": "ZnoRo1abuvSi"
   },
   "outputs": [],
   "source": [
    "#Applying Clustering algorithms (KMeans, AgglomerativeClustering)\n",
    "from sklearn.cluster import KMeans, AgglomerativeClustering"
   ]
  },
  {
   "cell_type": "code",
   "execution_count": 9,
   "metadata": {
    "colab": {
     "base_uri": "https://localhost:8080/"
    },
    "executionInfo": {
     "elapsed": 22,
     "status": "ok",
     "timestamp": 1700221430657,
     "user": {
      "displayName": "Atharv Pathak",
      "userId": "17047707583990029538"
     },
     "user_tz": -330
    },
    "id": "mULI2yrwvJ3l",
    "outputId": "c241436a-0615-478c-8bd2-dc92e2efb8e4"
   },
   "outputs": [
    {
     "name": "stderr",
     "output_type": "stream",
     "text": [
      "C:\\Users\\JAYASH\\anaconda3\\Lib\\site-packages\\sklearn\\cluster\\_kmeans.py:870: FutureWarning: The default value of `n_init` will change from 10 to 'auto' in 1.4. Set the value of `n_init` explicitly to suppress the warning\n",
      "  warnings.warn(\n",
      "C:\\Users\\JAYASH\\anaconda3\\Lib\\site-packages\\sklearn\\cluster\\_kmeans.py:1382: UserWarning: KMeans is known to have a memory leak on Windows with MKL, when there are less chunks than available threads. You can avoid it by setting the environment variable OMP_NUM_THREADS=2.\n",
      "  warnings.warn(\n"
     ]
    },
    {
     "data": {
      "text/plain": [
       "array([2, 2, 2, 2, 2, 2, 0, 3, 2, 2, 2, 2, 2, 2, 2, 0, 0, 2, 2, 2, 2, 2,\n",
       "       2, 2, 2, 2, 0, 2, 2, 2, 2, 2, 2, 2, 2, 0, 2, 2, 2, 2, 2, 2, 2, 2,\n",
       "       2, 2, 2, 2, 2, 2, 2, 2, 2, 2, 2, 2, 2, 2, 2, 0, 2, 2, 2, 2, 2, 2,\n",
       "       2, 2, 2, 2, 2, 2, 1, 2, 2, 2, 2, 2, 2, 2, 2, 2, 2, 2, 2, 2, 2, 2,\n",
       "       2, 2, 2, 0, 0, 2, 2, 2, 2, 2, 2, 2, 2, 2, 2, 2, 2, 2, 2, 2, 2, 2,\n",
       "       2, 2, 2, 2, 2, 0, 2, 2, 2, 3, 2, 2, 2, 2, 2, 2, 2, 2, 0, 2, 2, 2,\n",
       "       2, 2, 2, 2, 2, 2, 2, 0, 2, 1, 2, 2, 2, 2, 2, 0, 2, 2, 2, 2, 2, 2,\n",
       "       2, 2, 2, 2, 2, 2, 2, 2, 2, 2, 0, 2, 2, 2, 2, 2, 2, 2, 2, 2, 2, 2,\n",
       "       2, 2, 2, 2, 2, 2, 2, 0, 3, 1, 2, 2, 2, 2, 2, 2, 0, 0, 0, 2, 2, 2,\n",
       "       2, 2, 2, 0, 2, 2, 2, 2, 2, 2, 2, 2, 2, 2, 2, 2, 2, 2, 2, 0, 2, 2,\n",
       "       2, 0, 0, 2, 2, 4, 0, 2, 2, 2, 2, 0, 2, 0, 2, 2, 2, 2, 2, 2, 2, 0,\n",
       "       2, 2, 2, 2, 2, 2, 2, 2, 2, 4, 2, 2, 2, 2, 2, 2, 2, 2, 2, 2, 2, 2,\n",
       "       2, 2, 2, 2, 2, 2, 2, 0, 2, 2, 3, 2, 2, 0, 2, 2, 2, 2, 2, 2, 2, 2,\n",
       "       2, 2, 4, 0, 2, 2, 2, 2, 0, 2, 2, 2, 2, 2, 2, 2, 2, 2, 2, 2, 2, 2,\n",
       "       2, 0, 0, 2, 2, 2, 2, 0, 2, 2, 2, 2, 2, 2, 2, 2, 2, 2, 0, 2, 2, 2,\n",
       "       2, 2, 2, 2, 4, 2, 2, 2, 2, 2, 2, 2, 0, 0, 2, 2, 2, 2, 2, 2, 2, 0,\n",
       "       2, 2, 2, 2, 2, 2, 2, 2, 2, 2, 2, 2, 2, 2, 2, 2, 2, 2, 2, 0, 2, 0,\n",
       "       2, 2, 2, 2, 2, 2, 4, 2, 2, 2, 2, 2, 2, 2, 0, 2, 2, 2, 0, 2, 2, 2,\n",
       "       2, 0, 2, 2, 2, 2, 2, 2, 2, 2, 2, 2, 2, 2, 2, 2, 2, 2, 2, 2, 2, 2,\n",
       "       2, 2, 2, 2, 2, 2, 2, 2, 2, 2, 2, 2, 2, 2, 2, 2, 2, 2, 2, 2, 2, 2,\n",
       "       2, 0, 2, 2, 2, 0, 2, 2, 2, 4, 2, 2, 2, 2, 2, 2, 0, 2, 2, 0, 2, 2,\n",
       "       0, 2, 2, 2, 2, 2, 2, 2, 2, 2, 2, 2, 2, 2, 2, 2, 2, 0, 2, 0, 0, 2,\n",
       "       2, 2, 0, 0, 2, 0, 2, 2, 2])"
      ]
     },
     "execution_count": 9,
     "metadata": {},
     "output_type": "execute_result"
    }
   ],
   "source": [
    "km = KMeans(n_clusters = 5)\n",
    "km.fit_predict(x)"
   ]
  },
  {
   "cell_type": "code",
   "execution_count": 10,
   "metadata": {
    "colab": {
     "base_uri": "https://localhost:8080/"
    },
    "executionInfo": {
     "elapsed": 21,
     "status": "ok",
     "timestamp": 1700221430657,
     "user": {
      "displayName": "Atharv Pathak",
      "userId": "17047707583990029538"
     },
     "user_tz": -330
    },
    "id": "_wQ_N6EPvaH-",
    "outputId": "ca143ea0-6044-439d-8f5e-1d6ff56d90af"
   },
   "outputs": [
    {
     "data": {
      "text/plain": [
       "1140159897471.1187"
      ]
     },
     "execution_count": 10,
     "metadata": {},
     "output_type": "execute_result"
    }
   ],
   "source": [
    "#SSE - SUM SQUARED ERROR for n_cluster value\n",
    "km.inertia_"
   ]
  },
  {
   "cell_type": "code",
   "execution_count": 11,
   "metadata": {
    "colab": {
     "base_uri": "https://localhost:8080/"
    },
    "executionInfo": {
     "elapsed": 851,
     "status": "ok",
     "timestamp": 1700221431489,
     "user": {
      "displayName": "Atharv Pathak",
      "userId": "17047707583990029538"
     },
     "user_tz": -330
    },
    "id": "4aN4wNuLvuRr",
    "outputId": "7b4394c2-4a6f-451a-d3d8-8ee814603b8b"
   },
   "outputs": [
    {
     "name": "stderr",
     "output_type": "stream",
     "text": [
      "C:\\Users\\JAYASH\\anaconda3\\Lib\\site-packages\\sklearn\\cluster\\_kmeans.py:870: FutureWarning: The default value of `n_init` will change from 10 to 'auto' in 1.4. Set the value of `n_init` explicitly to suppress the warning\n",
      "  warnings.warn(\n",
      "C:\\Users\\JAYASH\\anaconda3\\Lib\\site-packages\\sklearn\\cluster\\_kmeans.py:1382: UserWarning: KMeans is known to have a memory leak on Windows with MKL, when there are less chunks than available threads. You can avoid it by setting the environment variable OMP_NUM_THREADS=2.\n",
      "  warnings.warn(\n",
      "C:\\Users\\JAYASH\\anaconda3\\Lib\\site-packages\\sklearn\\cluster\\_kmeans.py:870: FutureWarning: The default value of `n_init` will change from 10 to 'auto' in 1.4. Set the value of `n_init` explicitly to suppress the warning\n",
      "  warnings.warn(\n",
      "C:\\Users\\JAYASH\\anaconda3\\Lib\\site-packages\\sklearn\\cluster\\_kmeans.py:1382: UserWarning: KMeans is known to have a memory leak on Windows with MKL, when there are less chunks than available threads. You can avoid it by setting the environment variable OMP_NUM_THREADS=2.\n",
      "  warnings.warn(\n",
      "C:\\Users\\JAYASH\\anaconda3\\Lib\\site-packages\\sklearn\\cluster\\_kmeans.py:870: FutureWarning: The default value of `n_init` will change from 10 to 'auto' in 1.4. Set the value of `n_init` explicitly to suppress the warning\n",
      "  warnings.warn(\n",
      "C:\\Users\\JAYASH\\anaconda3\\Lib\\site-packages\\sklearn\\cluster\\_kmeans.py:1382: UserWarning: KMeans is known to have a memory leak on Windows with MKL, when there are less chunks than available threads. You can avoid it by setting the environment variable OMP_NUM_THREADS=2.\n",
      "  warnings.warn(\n",
      "C:\\Users\\JAYASH\\anaconda3\\Lib\\site-packages\\sklearn\\cluster\\_kmeans.py:870: FutureWarning: The default value of `n_init` will change from 10 to 'auto' in 1.4. Set the value of `n_init` explicitly to suppress the warning\n",
      "  warnings.warn(\n",
      "C:\\Users\\JAYASH\\anaconda3\\Lib\\site-packages\\sklearn\\cluster\\_kmeans.py:1382: UserWarning: KMeans is known to have a memory leak on Windows with MKL, when there are less chunks than available threads. You can avoid it by setting the environment variable OMP_NUM_THREADS=2.\n",
      "  warnings.warn(\n",
      "C:\\Users\\JAYASH\\anaconda3\\Lib\\site-packages\\sklearn\\cluster\\_kmeans.py:870: FutureWarning: The default value of `n_init` will change from 10 to 'auto' in 1.4. Set the value of `n_init` explicitly to suppress the warning\n",
      "  warnings.warn(\n",
      "C:\\Users\\JAYASH\\anaconda3\\Lib\\site-packages\\sklearn\\cluster\\_kmeans.py:1382: UserWarning: KMeans is known to have a memory leak on Windows with MKL, when there are less chunks than available threads. You can avoid it by setting the environment variable OMP_NUM_THREADS=2.\n",
      "  warnings.warn(\n",
      "C:\\Users\\JAYASH\\anaconda3\\Lib\\site-packages\\sklearn\\cluster\\_kmeans.py:870: FutureWarning: The default value of `n_init` will change from 10 to 'auto' in 1.4. Set the value of `n_init` explicitly to suppress the warning\n",
      "  warnings.warn(\n",
      "C:\\Users\\JAYASH\\anaconda3\\Lib\\site-packages\\sklearn\\cluster\\_kmeans.py:1382: UserWarning: KMeans is known to have a memory leak on Windows with MKL, when there are less chunks than available threads. You can avoid it by setting the environment variable OMP_NUM_THREADS=2.\n",
      "  warnings.warn(\n",
      "C:\\Users\\JAYASH\\anaconda3\\Lib\\site-packages\\sklearn\\cluster\\_kmeans.py:870: FutureWarning: The default value of `n_init` will change from 10 to 'auto' in 1.4. Set the value of `n_init` explicitly to suppress the warning\n",
      "  warnings.warn(\n",
      "C:\\Users\\JAYASH\\anaconda3\\Lib\\site-packages\\sklearn\\cluster\\_kmeans.py:1382: UserWarning: KMeans is known to have a memory leak on Windows with MKL, when there are less chunks than available threads. You can avoid it by setting the environment variable OMP_NUM_THREADS=2.\n",
      "  warnings.warn(\n",
      "C:\\Users\\JAYASH\\anaconda3\\Lib\\site-packages\\sklearn\\cluster\\_kmeans.py:870: FutureWarning: The default value of `n_init` will change from 10 to 'auto' in 1.4. Set the value of `n_init` explicitly to suppress the warning\n",
      "  warnings.warn(\n",
      "C:\\Users\\JAYASH\\anaconda3\\Lib\\site-packages\\sklearn\\cluster\\_kmeans.py:1382: UserWarning: KMeans is known to have a memory leak on Windows with MKL, when there are less chunks than available threads. You can avoid it by setting the environment variable OMP_NUM_THREADS=2.\n",
      "  warnings.warn(\n",
      "C:\\Users\\JAYASH\\anaconda3\\Lib\\site-packages\\sklearn\\cluster\\_kmeans.py:870: FutureWarning: The default value of `n_init` will change from 10 to 'auto' in 1.4. Set the value of `n_init` explicitly to suppress the warning\n",
      "  warnings.warn(\n",
      "C:\\Users\\JAYASH\\anaconda3\\Lib\\site-packages\\sklearn\\cluster\\_kmeans.py:1382: UserWarning: KMeans is known to have a memory leak on Windows with MKL, when there are less chunks than available threads. You can avoid it by setting the environment variable OMP_NUM_THREADS=2.\n",
      "  warnings.warn(\n",
      "C:\\Users\\JAYASH\\anaconda3\\Lib\\site-packages\\sklearn\\cluster\\_kmeans.py:870: FutureWarning: The default value of `n_init` will change from 10 to 'auto' in 1.4. Set the value of `n_init` explicitly to suppress the warning\n",
      "  warnings.warn(\n",
      "C:\\Users\\JAYASH\\anaconda3\\Lib\\site-packages\\sklearn\\cluster\\_kmeans.py:1382: UserWarning: KMeans is known to have a memory leak on Windows with MKL, when there are less chunks than available threads. You can avoid it by setting the environment variable OMP_NUM_THREADS=2.\n",
      "  warnings.warn(\n",
      "C:\\Users\\JAYASH\\anaconda3\\Lib\\site-packages\\sklearn\\cluster\\_kmeans.py:870: FutureWarning: The default value of `n_init` will change from 10 to 'auto' in 1.4. Set the value of `n_init` explicitly to suppress the warning\n",
      "  warnings.warn(\n",
      "C:\\Users\\JAYASH\\anaconda3\\Lib\\site-packages\\sklearn\\cluster\\_kmeans.py:1382: UserWarning: KMeans is known to have a memory leak on Windows with MKL, when there are less chunks than available threads. You can avoid it by setting the environment variable OMP_NUM_THREADS=2.\n",
      "  warnings.warn(\n",
      "C:\\Users\\JAYASH\\anaconda3\\Lib\\site-packages\\sklearn\\cluster\\_kmeans.py:870: FutureWarning: The default value of `n_init` will change from 10 to 'auto' in 1.4. Set the value of `n_init` explicitly to suppress the warning\n",
      "  warnings.warn(\n",
      "C:\\Users\\JAYASH\\anaconda3\\Lib\\site-packages\\sklearn\\cluster\\_kmeans.py:1382: UserWarning: KMeans is known to have a memory leak on Windows with MKL, when there are less chunks than available threads. You can avoid it by setting the environment variable OMP_NUM_THREADS=2.\n",
      "  warnings.warn(\n",
      "C:\\Users\\JAYASH\\anaconda3\\Lib\\site-packages\\sklearn\\cluster\\_kmeans.py:870: FutureWarning: The default value of `n_init` will change from 10 to 'auto' in 1.4. Set the value of `n_init` explicitly to suppress the warning\n",
      "  warnings.warn(\n",
      "C:\\Users\\JAYASH\\anaconda3\\Lib\\site-packages\\sklearn\\cluster\\_kmeans.py:1382: UserWarning: KMeans is known to have a memory leak on Windows with MKL, when there are less chunks than available threads. You can avoid it by setting the environment variable OMP_NUM_THREADS=2.\n",
      "  warnings.warn(\n",
      "C:\\Users\\JAYASH\\anaconda3\\Lib\\site-packages\\sklearn\\cluster\\_kmeans.py:870: FutureWarning: The default value of `n_init` will change from 10 to 'auto' in 1.4. Set the value of `n_init` explicitly to suppress the warning\n",
      "  warnings.warn(\n",
      "C:\\Users\\JAYASH\\anaconda3\\Lib\\site-packages\\sklearn\\cluster\\_kmeans.py:1382: UserWarning: KMeans is known to have a memory leak on Windows with MKL, when there are less chunks than available threads. You can avoid it by setting the environment variable OMP_NUM_THREADS=2.\n",
      "  warnings.warn(\n",
      "C:\\Users\\JAYASH\\anaconda3\\Lib\\site-packages\\sklearn\\cluster\\_kmeans.py:870: FutureWarning: The default value of `n_init` will change from 10 to 'auto' in 1.4. Set the value of `n_init` explicitly to suppress the warning\n",
      "  warnings.warn(\n",
      "C:\\Users\\JAYASH\\anaconda3\\Lib\\site-packages\\sklearn\\cluster\\_kmeans.py:1382: UserWarning: KMeans is known to have a memory leak on Windows with MKL, when there are less chunks than available threads. You can avoid it by setting the environment variable OMP_NUM_THREADS=2.\n",
      "  warnings.warn(\n"
     ]
    }
   ],
   "source": [
    "#storing sse values for k from 1 to 16\n",
    "sse = []\n",
    "for k in range(1, 16):\n",
    "  km = KMeans(n_clusters = k)\n",
    "  km.fit_predict(x)\n",
    "  sse.append(km.inertia_)\n",
    "warnings.filterwarnings('ignore')"
   ]
  },
  {
   "cell_type": "code",
   "execution_count": 12,
   "metadata": {
    "colab": {
     "base_uri": "https://localhost:8080/"
    },
    "executionInfo": {
     "elapsed": 18,
     "status": "ok",
     "timestamp": 1700221431490,
     "user": {
      "displayName": "Atharv Pathak",
      "userId": "17047707583990029538"
     },
     "user_tz": -330
    },
    "id": "ojtStdP9wXM0",
    "outputId": "784edff4-87bd-4d33-df90-72ee2ba41406"
   },
   "outputs": [
    {
     "data": {
      "text/plain": [
       "[20983968811698.758,\n",
       " 6303604813653.317,\n",
       " 2980668400504.3813,\n",
       " 1538593344754.8447,\n",
       " 1140159897471.1187,\n",
       " 841597943454.478,\n",
       " 715155622749.136,\n",
       " 575067651432.7656,\n",
       " 461649487415.4489,\n",
       " 362249667863.1166,\n",
       " 300316957082.06573,\n",
       " 248117635027.17865,\n",
       " 208540624060.3125,\n",
       " 180699268064.7452,\n",
       " 155512373669.87634]"
      ]
     },
     "execution_count": 12,
     "metadata": {},
     "output_type": "execute_result"
    }
   ],
   "source": [
    "sse"
   ]
  },
  {
   "cell_type": "code",
   "execution_count": 13,
   "metadata": {
    "colab": {
     "base_uri": "https://localhost:8080/",
     "height": 489
    },
    "executionInfo": {
     "elapsed": 15,
     "status": "ok",
     "timestamp": 1700221431490,
     "user": {
      "displayName": "Atharv Pathak",
      "userId": "17047707583990029538"
     },
     "user_tz": -330
    },
    "id": "OVSCRyUDwfRI",
    "outputId": "89c92c6f-0a6e-49f3-84e2-8c5591d9839b"
   },
   "outputs": [
    {
     "data": {
      "text/plain": [
       "[<matplotlib.lines.Line2D at 0x214be48dd10>]"
      ]
     },
     "execution_count": 13,
     "metadata": {},
     "output_type": "execute_result"
    },
    {
     "data": {
      "image/png": "[encoded data removed]",
      "text/plain": [
       "<Figure size 640x480 with 1 Axes>"
      ]
     },
     "metadata": {},
     "output_type": "display_data"
    }
   ],
   "source": [
    "#plotting sse with ELBOW METHOD\n",
    "plt.title('Elbow Method')\n",
    "plt.xlabel('Value of K')\n",
    "plt.ylabel('SSE')\n",
    "plt.grid()\n",
    "plt.xticks(range(1, 16))\n",
    "plt.plot(range(1, 16), sse, marker = '.', color = 'red')\n",
    "#below plot shows 5 is the elbow"
   ]
  },
  {
   "cell_type": "code",
   "execution_count": 14,
   "metadata": {
    "executionInfo": {
     "elapsed": 11,
     "status": "ok",
     "timestamp": 1700221431490,
     "user": {
      "displayName": "Atharv Pathak",
      "userId": "17047707583990029538"
     },
     "user_tz": -330
    },
    "id": "E4yVBlHdxWiX"
   },
   "outputs": [],
   "source": [
    "#plotting Silhouette score with SILHOUETTE METHOD\n",
    "from sklearn.metrics import silhouette_score"
   ]
  },
  {
   "cell_type": "code",
   "execution_count": 15,
   "metadata": {
    "colab": {
     "base_uri": "https://localhost:8080/"
    },
    "executionInfo": {
     "elapsed": 2158,
     "status": "ok",
     "timestamp": 1700221433638,
     "user": {
      "displayName": "Atharv Pathak",
      "userId": "17047707583990029538"
     },
     "user_tz": -330
    },
    "id": "LwjKisxbx3Gl",
    "outputId": "228c0a4b-1af6-4cc2-9344-bd56b7e470c9"
   },
   "outputs": [],
   "source": [
    "silh = []\n",
    "for k in range(2, 16):\n",
    "  km = KMeans(n_clusters = k)\n",
    "  labels = km.fit_predict(x)   #storing output for x in labels to pass as parameter in silhouette_score\n",
    "  score = silhouette_score(x, labels)\n",
    "  silh.append(score)"
   ]
  },
  {
   "cell_type": "code",
   "execution_count": 16,
   "metadata": {
    "colab": {
     "base_uri": "https://localhost:8080/"
    },
    "executionInfo": {
     "elapsed": 19,
     "status": "ok",
     "timestamp": 1700221433638,
     "user": {
      "displayName": "Atharv Pathak",
      "userId": "17047707583990029538"
     },
     "user_tz": -330
    },
    "id": "UZrSKpCFyiGH",
    "outputId": "f5e1f460-054d-4993-b53c-9d405b5a72a6"
   },
   "outputs": [
    {
     "data": {
      "text/plain": [
       "[0.9419413197157899,\n",
       " 0.9049675036488553,\n",
       " 0.7946516258088994,\n",
       " 0.7821036679059883,\n",
       " 0.7514318627767494,\n",
       " 0.7435630522215677,\n",
       " 0.6678315284135395,\n",
       " 0.5968628514105495,\n",
       " 0.5710733463137008,\n",
       " 0.5777627396110907,\n",
       " 0.5562244898371677,\n",
       " 0.5556575595271781,\n",
       " 0.5445480213856989,\n",
       " 0.5028928577684558]"
      ]
     },
     "execution_count": 16,
     "metadata": {},
     "output_type": "execute_result"
    }
   ],
   "source": [
    "silh"
   ]
  },
  {
   "cell_type": "code",
   "execution_count": 17,
   "metadata": {
    "colab": {
     "base_uri": "https://localhost:8080/",
     "height": 489
    },
    "executionInfo": {
     "elapsed": 16,
     "status": "ok",
     "timestamp": 1700221433638,
     "user": {
      "displayName": "Atharv Pathak",
      "userId": "17047707583990029538"
     },
     "user_tz": -330
    },
    "id": "zpjRNIpTzVfh",
    "outputId": "4627c701-eaf8-438c-c882-c68ab33a0685"
   },
   "outputs": [
    {
     "data": {
      "text/plain": [
       "<BarContainer object of 14 artists>"
      ]
     },
     "execution_count": 17,
     "metadata": {},
     "output_type": "execute_result"
    },
    {
     "data": {
      "image/png": "[encoded data removed]",
      "text/plain": [
       "<Figure size 640x480 with 1 Axes>"
      ]
     },
     "metadata": {},
     "output_type": "display_data"
    }
   ],
   "source": [
    "plt.title('Silhouette Method')\n",
    "plt.xlabel('Value of K')\n",
    "plt.ylabel('Silhoutte Score')\n",
    "plt.grid()\n",
    "plt.xticks(range(2, 16))\n",
    "plt.bar(range(2, 16), silh, color = 'pink')\n",
    "#below graph shows k=5 is best clustering"
   ]
  },
  {
   "cell_type": "code",
   "execution_count": 18,
   "metadata": {
    "colab": {
     "base_uri": "https://localhost:8080/"
    },
    "executionInfo": {
     "elapsed": 13,
     "status": "ok",
     "timestamp": 1700221433638,
     "user": {
      "displayName": "Atharv Pathak",
      "userId": "17047707583990029538"
     },
     "user_tz": -330
    },
    "id": "l33fmNKO01O2",
    "outputId": "24142cf6-c863-47e1-db8a-88b565fd4c6f"
   },
   "outputs": [
    {
     "data": {
      "text/plain": [
       "array([0, 0, 0, 0, 0, 0, 4, 1, 0, 0, 0, 0, 0, 0, 0, 4, 4, 0, 0, 0, 0, 0,\n",
       "       0, 0, 0, 0, 4, 0, 0, 0, 0, 0, 0, 0, 0, 4, 0, 0, 0, 0, 0, 0, 0, 0,\n",
       "       0, 0, 0, 0, 0, 0, 0, 0, 0, 0, 0, 0, 0, 0, 0, 4, 0, 0, 0, 0, 0, 0,\n",
       "       0, 0, 0, 0, 0, 0, 3, 0, 0, 0, 0, 0, 0, 0, 0, 0, 0, 0, 0, 0, 0, 0,\n",
       "       0, 0, 0, 4, 4, 0, 0, 0, 0, 0, 0, 0, 0, 0, 0, 0, 0, 0, 0, 0, 0, 0,\n",
       "       0, 0, 0, 0, 0, 4, 0, 0, 0, 1, 0, 0, 0, 0, 0, 0, 0, 0, 4, 0, 4, 0,\n",
       "       0, 0, 0, 0, 0, 0, 0, 4, 0, 3, 0, 0, 0, 0, 0, 4, 0, 0, 0, 0, 0, 0,\n",
       "       0, 0, 0, 0, 0, 0, 0, 0, 0, 0, 4, 0, 0, 0, 0, 0, 0, 0, 0, 0, 0, 0,\n",
       "       0, 0, 0, 0, 0, 0, 0, 4, 1, 3, 0, 0, 0, 0, 0, 0, 4, 4, 4, 0, 0, 0,\n",
       "       0, 0, 0, 4, 0, 0, 0, 0, 0, 0, 0, 0, 0, 0, 0, 0, 0, 0, 0, 4, 0, 0,\n",
       "       0, 2, 4, 0, 0, 2, 4, 0, 0, 0, 0, 4, 0, 4, 0, 0, 0, 0, 0, 0, 0, 4,\n",
       "       0, 0, 0, 0, 0, 0, 0, 0, 0, 2, 0, 0, 0, 0, 0, 0, 0, 0, 0, 0, 0, 0,\n",
       "       0, 0, 0, 0, 0, 0, 0, 4, 0, 0, 1, 0, 0, 4, 0, 0, 0, 0, 0, 0, 0, 0,\n",
       "       0, 0, 2, 4, 0, 0, 0, 0, 4, 0, 0, 0, 0, 0, 0, 0, 0, 0, 0, 0, 0, 0,\n",
       "       0, 4, 4, 0, 0, 0, 0, 4, 0, 0, 0, 0, 0, 0, 0, 0, 0, 0, 4, 0, 0, 0,\n",
       "       0, 0, 0, 0, 2, 0, 0, 0, 0, 0, 0, 0, 4, 4, 0, 0, 0, 0, 0, 0, 0, 4,\n",
       "       0, 0, 0, 0, 0, 0, 0, 0, 0, 0, 0, 0, 0, 0, 0, 0, 0, 0, 0, 4, 0, 4,\n",
       "       0, 0, 0, 0, 0, 0, 2, 0, 0, 0, 0, 0, 0, 0, 4, 0, 0, 0, 4, 0, 0, 0,\n",
       "       0, 4, 0, 0, 0, 0, 0, 0, 0, 0, 0, 0, 0, 0, 0, 0, 4, 0, 4, 0, 0, 0,\n",
       "       0, 0, 0, 0, 0, 0, 0, 0, 0, 0, 0, 0, 0, 0, 0, 0, 0, 0, 0, 0, 0, 0,\n",
       "       0, 4, 0, 0, 0, 4, 0, 0, 0, 2, 0, 0, 0, 0, 0, 0, 4, 0, 0, 4, 0, 0,\n",
       "       4, 0, 0, 0, 0, 0, 0, 0, 0, 0, 0, 0, 0, 0, 0, 0, 0, 4, 0, 4, 4, 0,\n",
       "       0, 0, 4, 4, 0, 4, 0, 0, 0])"
      ]
     },
     "execution_count": 18,
     "metadata": {},
     "output_type": "execute_result"
    }
   ],
   "source": [
    "km = KMeans(n_clusters = 5, random_state = 0)\n",
    "labels = km.fit_predict(x)\n",
    "labels"
   ]
  },
  {
   "cell_type": "code",
   "execution_count": 19,
   "metadata": {
    "colab": {
     "base_uri": "https://localhost:8080/",
     "height": 695
    },
    "executionInfo": {
     "elapsed": 1042,
     "status": "ok",
     "timestamp": 1700221434667,
     "user": {
      "displayName": "Atharv Pathak",
      "userId": "17047707583990029538"
     },
     "user_tz": -330
    },
    "id": "PIx0yiV81FQe",
    "outputId": "b67a3b19-e118-4b57-c0f0-dd808ffaee22"
   },
   "outputs": [
    {
     "data": {
      "text/plain": [
       "<matplotlib.collections.PathCollection at 0x214c2103f10>"
      ]
     },
     "execution_count": 19,
     "metadata": {},
     "output_type": "execute_result"
    },
    {
     "data": {
      "image/png": "[encoded data removed]",
      "text/plain": [
       "<Figure size 1600x900 with 2 Axes>"
      ]
     },
     "metadata": {},
     "output_type": "display_data"
    }
   ],
   "source": [
    "#Seeing clustered and unclustered same?\n",
    "plt.figure(figsize = (16,9))\n",
    "\n",
    "plt.subplot(1,2,1)\n",
    "plt.title('Unclustered Data')\n",
    "plt.xlabel('Total graduates')\n",
    "plt.ylabel('Toatl Population')\n",
    "plt.scatter(x['total_graduates'], x['0-6_population_total'])\n",
    "\n",
    "plt.subplot(1,2,2)\n",
    "plt.title('Clustered Data')\n",
    "plt.xlabel('Total graduates')\n",
    "plt.ylabel('Toatl Population')\n",
    "plt.scatter(x['total_graduates'], x['0-6_population_total'], c=labels)"
   ]
  },
  {
   "cell_type": "code",
   "execution_count": 20,
   "metadata": {
    "colab": {
     "base_uri": "https://localhost:8080/"
    },
    "executionInfo": {
     "elapsed": 20,
     "status": "ok",
     "timestamp": 1700221434667,
     "user": {
      "displayName": "Atharv Pathak",
      "userId": "17047707583990029538"
     },
     "user_tz": -330
    },
    "id": "DbAMoE4E2TYj",
    "outputId": "eab66dd8-9976-427b-c65f-df01266fc560"
   },
   "outputs": [
    {
     "data": {
      "text/plain": [
       "array([3])"
      ]
     },
     "execution_count": 20,
     "metadata": {},
     "output_type": "execute_result"
    }
   ],
   "source": [
    "km.predict([[425738262, 265267893762]])   #it'll give me which cluster they belong"
   ]
  },
  {
   "cell_type": "code",
   "execution_count": 21,
   "metadata": {
    "colab": {
     "base_uri": "https://localhost:8080/"
    },
    "executionInfo": {
     "elapsed": 18,
     "status": "ok",
     "timestamp": 1700221434667,
     "user": {
      "displayName": "Atharv Pathak",
      "userId": "17047707583990029538"
     },
     "user_tz": -330
    },
    "id": "vZ4Ju_ge2hDL",
    "outputId": "62933027-1f20-4346-d1ac-d546ce0b1403"
   },
   "outputs": [
    {
     "data": {
      "text/plain": [
       "array([0, 0, 0, 0, 0, 0, 0, 1, 0, 0, 0, 0, 0, 0, 0, 0, 0, 0, 0, 0, 0, 0,\n",
       "       0, 0, 0, 0, 0, 0, 0, 0, 0, 0, 0, 0, 0, 0, 0, 0, 0, 0, 0, 0, 0, 0,\n",
       "       0, 0, 0, 0, 0, 0, 0, 0, 0, 0, 0, 0, 0, 0, 0, 0, 0, 0, 0, 0, 0, 0,\n",
       "       0, 0, 0, 0, 0, 0, 2, 0, 0, 0, 0, 0, 0, 0, 0, 0, 0, 0, 0, 0, 0, 0,\n",
       "       0, 0, 0, 0, 0, 0, 0, 0, 0, 0, 0, 0, 0, 0, 0, 0, 0, 0, 0, 0, 0, 0,\n",
       "       0, 0, 0, 0, 0, 0, 0, 0, 0, 1, 0, 0, 0, 0, 0, 0, 0, 0, 0, 0, 0, 0,\n",
       "       0, 0, 0, 0, 0, 0, 0, 0, 0, 2, 0, 0, 0, 0, 0, 0, 0, 0, 0, 0, 0, 0,\n",
       "       0, 0, 0, 0, 0, 0, 0, 0, 0, 0, 0, 0, 0, 0, 0, 0, 0, 0, 0, 0, 0, 0,\n",
       "       0, 0, 0, 0, 0, 0, 0, 0, 1, 2, 0, 0, 0, 0, 0, 0, 0, 0, 0, 0, 0, 0,\n",
       "       0, 0, 0, 0, 0, 0, 0, 0, 0, 0, 0, 0, 0, 0, 0, 0, 0, 0, 0, 0, 0, 0,\n",
       "       0, 0, 0, 0, 0, 1, 0, 0, 0, 0, 0, 0, 0, 0, 0, 0, 0, 0, 0, 0, 0, 0,\n",
       "       0, 0, 0, 0, 0, 0, 0, 0, 0, 0, 0, 0, 0, 0, 0, 0, 0, 0, 0, 0, 0, 0,\n",
       "       0, 0, 0, 0, 0, 0, 0, 0, 0, 0, 1, 0, 0, 0, 0, 0, 0, 0, 0, 0, 0, 0,\n",
       "       0, 0, 1, 0, 0, 0, 0, 0, 0, 0, 0, 0, 0, 0, 0, 0, 0, 0, 0, 0, 0, 0,\n",
       "       0, 0, 0, 0, 0, 0, 0, 0, 0, 0, 0, 0, 0, 0, 0, 0, 0, 0, 0, 0, 0, 0,\n",
       "       0, 0, 0, 0, 0, 0, 0, 0, 0, 0, 0, 0, 0, 0, 0, 0, 0, 0, 0, 0, 0, 0,\n",
       "       0, 0, 0, 0, 0, 0, 0, 0, 0, 0, 0, 0, 0, 0, 0, 0, 0, 0, 0, 0, 0, 0,\n",
       "       0, 0, 0, 0, 0, 0, 1, 0, 0, 0, 0, 0, 0, 0, 0, 0, 0, 0, 0, 0, 0, 0,\n",
       "       0, 0, 0, 0, 0, 0, 0, 0, 0, 0, 0, 0, 0, 0, 0, 0, 0, 0, 0, 0, 0, 0,\n",
       "       0, 0, 0, 0, 0, 0, 0, 0, 0, 0, 0, 0, 0, 0, 0, 0, 0, 0, 0, 0, 0, 0,\n",
       "       0, 0, 0, 0, 0, 0, 0, 0, 0, 0, 0, 0, 0, 0, 0, 0, 0, 0, 0, 0, 0, 0,\n",
       "       0, 0, 0, 0, 0, 0, 0, 0, 0, 0, 0, 0, 0, 0, 0, 0, 0, 0, 0, 0, 0, 0,\n",
       "       0, 0, 0, 0, 0, 0, 0, 0, 0], dtype=int64)"
      ]
     },
     "execution_count": 21,
     "metadata": {},
     "output_type": "execute_result"
    }
   ],
   "source": [
    "#Applying agglomerativeclustering algorithm\n",
    "agl = AgglomerativeClustering(n_clusters = 3)\n",
    "alabels = agl.fit_predict(x)\n",
    "alabels"
   ]
  },
  {
   "cell_type": "code",
   "execution_count": 22,
   "metadata": {},
   "outputs": [],
   "source": [
    "import scipy.cluster.hierarchy as shc\n"
   ]
  },
  {
   "cell_type": "code",
   "execution_count": 27,
   "metadata": {},
   "outputs": [
    {
     "data": {
      "image/png": "[encoded data removed]",
      "text/plain": [
       "<Figure size 1000x700 with 1 Axes>"
      ]
     },
     "metadata": {},
     "output_type": "display_data"
    }
   ],
   "source": [
    "plt.figure(figsize=(10,7))\n",
    "plt.title(\"dendrogram\")\n",
    "plt.xlabel(\"Total Graduates\")\n",
    "plt.ylabel(\"Total Population\")\n",
    "dend = shc.dendrogram(shc.linkage(x, method='ward'))\n"
   ]
  },
  {
   "cell_type": "code",
   "execution_count": 24,
   "metadata": {
    "colab": {
     "base_uri": "https://localhost:8080/",
     "height": 1000
    },
    "executionInfo": {
     "elapsed": 16,
     "status": "error",
     "timestamp": 1700221434667,
     "user": {
      "displayName": "Atharv Pathak",
      "userId": "17047707583990029538"
     },
     "user_tz": -330
    },
    "id": "RGPnKIfT299R",
    "outputId": "07dd780a-afdb-4313-a52f-ec7b26847fc8"
   },
   "outputs": [
    {
     "data": {
      "text/plain": [
       "<matplotlib.collections.PathCollection at 0x214c4ff2550>"
      ]
     },
     "execution_count": 24,
     "metadata": {},
     "output_type": "execute_result"
    },
    {
     "data": {
      "image/png": "[encoded data removed]",
      "text/plain": [
       "<Figure size 1600x900 with 2 Axes>"
      ]
     },
     "metadata": {},
     "output_type": "display_data"
    }
   ],
   "source": [
    "#Agglomerative vs KMeans\n",
    "plt.figure(figsize = (16,9))\n",
    "\n",
    "plt.subplot(1,2,1)\n",
    "plt.title('Agglomerative')\n",
    "plt.xlabel('Total graduates')\n",
    "plt.ylabel('Toatl Population')\n",
    "plt.scatter(x['total_graduates'], x['0-6_population_total'], c=alabels)\n",
    "\n",
    "plt.subplot(1,2,2)\n",
    "plt.title('K-MEAN')\n",
    "plt.xlabel('Total graduates')\n",
    "plt.ylabel('Toatl Population')\n",
    "plt.scatter(x['total_graduates'], x['0-6_population_total'], c=labels)"
   ]
  },
  {
   "cell_type": "code",
   "execution_count": null,
   "metadata": {},
   "outputs": [],
   "source": []
  }
 ],
 "metadata": {
  "colab": {
   "authorship_tag": "ABX9TyNJWvQxQCCwwe9sxK2TvTbm",
   "provenance": []
  },
  "kernelspec": {
   "display_name": "Python 3 (ipykernel)",
   "language": "python",
   "name": "python3"
  },
  "language_info": {
   "codemirror_mode": {
    "name": "ipython",
    "version": 3
   },
   "file_extension": ".py",
   "mimetype": "text/x-python",
   "name": "python",
   "nbconvert_exporter": "python",
   "pygments_lexer": "ipython3",
   "version": "3.11.3"
  }
 },
 "nbformat": 4,
 "nbformat_minor": 1
}
